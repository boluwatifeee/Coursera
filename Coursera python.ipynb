{
 "cells": [
  {
   "cell_type": "code",
   "execution_count": 11,
   "metadata": {},
   "outputs": [
    {
     "name": "stdout",
     "output_type": "stream",
     "text": [
      "150\n"
     ]
    }
   ],
   "source": [
    "#Collatz conjure\n",
    "def f(n):\n",
    "        if n%2 == 0:\n",
    "            return(n//2)\n",
    "        else:\n",
    "            return((n*3)+1)\n",
    "print(f(300))"
   ]
  },
  {
   "cell_type": "code",
   "execution_count": 12,
   "metadata": {},
   "outputs": [
    {
     "name": "stdout",
     "output_type": "stream",
     "text": [
      "190\n"
     ]
    }
   ],
   "source": [
    "#Collatz conjure\n",
    "def f(n):\n",
    "        if n%2 == 0:\n",
    "            return(n//2)\n",
    "        else:\n",
    "            return((n*3)+1)\n",
    "print(f(f(f(f(f(f(f(674))))))))"
   ]
  },
  {
   "cell_type": "code",
   "execution_count": 13,
   "metadata": {},
   "outputs": [
    {
     "name": "stdout",
     "output_type": "stream",
     "text": [
      "3053\n"
     ]
    }
   ],
   "source": [
    "#Collatz conjure\n",
    "def f(n):\n",
    "        if n%2 == 0:\n",
    "            return(n//2)\n",
    "        else:\n",
    "            return((n*3)+1)\n",
    "print(f(f(f(f(f(f(f(f(f(f(f(f(f(f(1071)))))))))))))))"
   ]
  },
  {
   "cell_type": "code",
   "execution_count": null,
   "metadata": {},
   "outputs": [],
   "source": []
  }
 ],
 "metadata": {
  "kernelspec": {
   "display_name": "Python 3",
   "language": "python",
   "name": "python3"
  },
  "language_info": {
   "codemirror_mode": {
    "name": "ipython",
    "version": 3
   },
   "file_extension": ".py",
   "mimetype": "text/x-python",
   "name": "python",
   "nbconvert_exporter": "python",
   "pygments_lexer": "ipython3",
   "version": "3.7.6"
  }
 },
 "nbformat": 4,
 "nbformat_minor": 4
}
